{
 "cells": [
  {
   "cell_type": "code",
   "execution_count": 1,
   "metadata": {},
   "outputs": [],
   "source": [
    "import pandas as pd\n",
    "import matplotlib.pyplot as plt"
   ]
  },
  {
   "cell_type": "code",
   "execution_count": 2,
   "metadata": {},
   "outputs": [
    {
     "data": {
      "text/html": [
       "<div>\n",
       "<style scoped>\n",
       "    .dataframe tbody tr th:only-of-type {\n",
       "        vertical-align: middle;\n",
       "    }\n",
       "\n",
       "    .dataframe tbody tr th {\n",
       "        vertical-align: top;\n",
       "    }\n",
       "\n",
       "    .dataframe thead th {\n",
       "        text-align: right;\n",
       "    }\n",
       "</style>\n",
       "<table border=\"1\" class=\"dataframe\">\n",
       "  <thead>\n",
       "    <tr style=\"text-align: right;\">\n",
       "      <th></th>\n",
       "      <th>Unnamed: 0</th>\n",
       "      <th>Hour</th>\n",
       "      <th>Minutes</th>\n",
       "      <th>Sensor_alpha</th>\n",
       "      <th>Sensor_beta</th>\n",
       "      <th>Sensor_gamma</th>\n",
       "      <th>Sensor_alpha_plus</th>\n",
       "      <th>Sensor_beta_plus</th>\n",
       "      <th>Sensor_gamma_plus</th>\n",
       "      <th>Insect</th>\n",
       "    </tr>\n",
       "  </thead>\n",
       "  <tbody>\n",
       "    <tr>\n",
       "      <th>5779</th>\n",
       "      <td>5779</td>\n",
       "      <td>21</td>\n",
       "      <td>19</td>\n",
       "      <td>-124.069556</td>\n",
       "      <td>188.992819</td>\n",
       "      <td>85.509895</td>\n",
       "      <td>-127.950417</td>\n",
       "      <td>34.730068</td>\n",
       "      <td>38.183533</td>\n",
       "      <td>1</td>\n",
       "    </tr>\n",
       "    <tr>\n",
       "      <th>4662</th>\n",
       "      <td>4662</td>\n",
       "      <td>22</td>\n",
       "      <td>23</td>\n",
       "      <td>76.994615</td>\n",
       "      <td>-44.383657</td>\n",
       "      <td>17.037376</td>\n",
       "      <td>7.713780</td>\n",
       "      <td>131.214340</td>\n",
       "      <td>-0.118638</td>\n",
       "      <td>0</td>\n",
       "    </tr>\n",
       "    <tr>\n",
       "      <th>2720</th>\n",
       "      <td>2720</td>\n",
       "      <td>18</td>\n",
       "      <td>26</td>\n",
       "      <td>-100.491632</td>\n",
       "      <td>61.439225</td>\n",
       "      <td>-185.736840</td>\n",
       "      <td>119.458873</td>\n",
       "      <td>-13.304238</td>\n",
       "      <td>82.197003</td>\n",
       "      <td>2</td>\n",
       "    </tr>\n",
       "    <tr>\n",
       "      <th>5644</th>\n",
       "      <td>5644</td>\n",
       "      <td>21</td>\n",
       "      <td>37</td>\n",
       "      <td>-69.720894</td>\n",
       "      <td>-129.268958</td>\n",
       "      <td>23.994552</td>\n",
       "      <td>-115.564965</td>\n",
       "      <td>-4.905606</td>\n",
       "      <td>-67.745667</td>\n",
       "      <td>1</td>\n",
       "    </tr>\n",
       "    <tr>\n",
       "      <th>2</th>\n",
       "      <td>2</td>\n",
       "      <td>21</td>\n",
       "      <td>42</td>\n",
       "      <td>-20.028003</td>\n",
       "      <td>-147.070212</td>\n",
       "      <td>50.280872</td>\n",
       "      <td>-90.750386</td>\n",
       "      <td>-50.476556</td>\n",
       "      <td>85.399009</td>\n",
       "      <td>1</td>\n",
       "    </tr>\n",
       "    <tr>\n",
       "      <th>1271</th>\n",
       "      <td>1271</td>\n",
       "      <td>21</td>\n",
       "      <td>32</td>\n",
       "      <td>91.865875</td>\n",
       "      <td>-11.473797</td>\n",
       "      <td>-131.494398</td>\n",
       "      <td>-161.210336</td>\n",
       "      <td>-22.325081</td>\n",
       "      <td>-96.975748</td>\n",
       "      <td>1</td>\n",
       "    </tr>\n",
       "    <tr>\n",
       "      <th>5021</th>\n",
       "      <td>5021</td>\n",
       "      <td>16</td>\n",
       "      <td>2</td>\n",
       "      <td>-68.369351</td>\n",
       "      <td>-142.303309</td>\n",
       "      <td>24.535359</td>\n",
       "      <td>-19.541923</td>\n",
       "      <td>75.488561</td>\n",
       "      <td>24.295321</td>\n",
       "      <td>1</td>\n",
       "    </tr>\n",
       "    <tr>\n",
       "      <th>3782</th>\n",
       "      <td>3782</td>\n",
       "      <td>21</td>\n",
       "      <td>29</td>\n",
       "      <td>92.020123</td>\n",
       "      <td>105.694182</td>\n",
       "      <td>-105.460287</td>\n",
       "      <td>48.538166</td>\n",
       "      <td>50.810678</td>\n",
       "      <td>-31.901841</td>\n",
       "      <td>2</td>\n",
       "    </tr>\n",
       "    <tr>\n",
       "      <th>5972</th>\n",
       "      <td>5972</td>\n",
       "      <td>21</td>\n",
       "      <td>2</td>\n",
       "      <td>35.825234</td>\n",
       "      <td>149.607889</td>\n",
       "      <td>-75.226062</td>\n",
       "      <td>-63.766263</td>\n",
       "      <td>-40.029112</td>\n",
       "      <td>-27.905894</td>\n",
       "      <td>2</td>\n",
       "    </tr>\n",
       "    <tr>\n",
       "      <th>5452</th>\n",
       "      <td>5452</td>\n",
       "      <td>17</td>\n",
       "      <td>16</td>\n",
       "      <td>79.883782</td>\n",
       "      <td>55.394247</td>\n",
       "      <td>-57.646273</td>\n",
       "      <td>89.149638</td>\n",
       "      <td>9.194418</td>\n",
       "      <td>84.021123</td>\n",
       "      <td>0</td>\n",
       "    </tr>\n",
       "  </tbody>\n",
       "</table>\n",
       "</div>"
      ],
      "text/plain": [
       "      Unnamed: 0  Hour  Minutes  Sensor_alpha  Sensor_beta  Sensor_gamma  \\\n",
       "5779        5779    21       19   -124.069556   188.992819     85.509895   \n",
       "4662        4662    22       23     76.994615   -44.383657     17.037376   \n",
       "2720        2720    18       26   -100.491632    61.439225   -185.736840   \n",
       "5644        5644    21       37    -69.720894  -129.268958     23.994552   \n",
       "2              2    21       42    -20.028003  -147.070212     50.280872   \n",
       "1271        1271    21       32     91.865875   -11.473797   -131.494398   \n",
       "5021        5021    16        2    -68.369351  -142.303309     24.535359   \n",
       "3782        3782    21       29     92.020123   105.694182   -105.460287   \n",
       "5972        5972    21        2     35.825234   149.607889    -75.226062   \n",
       "5452        5452    17       16     79.883782    55.394247    -57.646273   \n",
       "\n",
       "      Sensor_alpha_plus  Sensor_beta_plus  Sensor_gamma_plus  Insect  \n",
       "5779        -127.950417         34.730068          38.183533       1  \n",
       "4662           7.713780        131.214340          -0.118638       0  \n",
       "2720         119.458873        -13.304238          82.197003       2  \n",
       "5644        -115.564965         -4.905606         -67.745667       1  \n",
       "2            -90.750386        -50.476556          85.399009       1  \n",
       "1271        -161.210336        -22.325081         -96.975748       1  \n",
       "5021         -19.541923         75.488561          24.295321       1  \n",
       "3782          48.538166         50.810678         -31.901841       2  \n",
       "5972         -63.766263        -40.029112         -27.905894       2  \n",
       "5452          89.149638          9.194418          84.021123       0  "
      ]
     },
     "execution_count": 2,
     "metadata": {},
     "output_type": "execute_result"
    }
   ],
   "source": [
    "train=pd.read_csv(\"train.csv\",index_col=False)\n",
    "train.sample(10)"
   ]
  },
  {
   "cell_type": "code",
   "execution_count": 3,
   "metadata": {},
   "outputs": [
    {
     "data": {
      "text/plain": [
       "0    3519\n",
       "1    2793\n",
       "2     689\n",
       "Name: Insect, dtype: int64"
      ]
     },
     "execution_count": 3,
     "metadata": {},
     "output_type": "execute_result"
    }
   ],
   "source": [
    "train[\"Insect\"].value_counts()"
   ]
  },
  {
   "cell_type": "code",
   "execution_count": 5,
   "metadata": {},
   "outputs": [
    {
     "data": {
      "text/plain": [
       "1       31\n",
       "2       24\n",
       "3       27\n",
       "4       32\n",
       "5       45\n",
       "6       16\n",
       "7       40\n",
       "8       30\n",
       "9       32\n",
       "10      27\n",
       "11      40\n",
       "12      38\n",
       "13      27\n",
       "14      38\n",
       "15      27\n",
       "16      30\n",
       "17      41\n",
       "18     752\n",
       "19     720\n",
       "20     804\n",
       "21    3235\n",
       "22     802\n",
       "23     143\n",
       "Name: Hour, dtype: int64"
      ]
     },
     "execution_count": 5,
     "metadata": {},
     "output_type": "execute_result"
    }
   ],
   "source": [
    "hours=train[\"Hour\"].value_counts()\n",
    "hours.sort_index(axis = 0)\n"
   ]
  },
  {
   "cell_type": "code",
   "execution_count": 4,
   "metadata": {},
   "outputs": [
    {
     "data": {
      "image/png": "[encoded data removed]",
      "text/plain": [
       "<Figure size 432x288 with 1 Axes>"
      ]
     },
     "metadata": {
      "needs_background": "light"
     },
     "output_type": "display_data"
    },
    {
     "data": {
      "text/plain": [
       "<Figure size 21600x7200 with 0 Axes>"
      ]
     },
     "metadata": {},
     "output_type": "display_data"
    }
   ],
   "source": [
    "#train.plot(kind='scatter',x='Unnamed: 0',y='Insect',color='red')\n",
    "\n",
    "plt.hist(train[\"Hour\"])\n",
    "plt.figure(figsize=(300,100))\n",
    "plt.tight_layout()\n"
   ]
  },
  {
   "cell_type": "code",
   "execution_count": 7,
   "metadata": {},
   "outputs": [
    {
     "data": {
      "image/png": "[encoded data removed]",
      "text/plain": [
       "<Figure size 432x288 with 1 Axes>"
      ]
     },
     "metadata": {
      "needs_background": "light"
     },
     "output_type": "display_data"
    },
    {
     "data": {
      "text/plain": [
       "<Figure size 18000x720 with 0 Axes>"
      ]
     },
     "metadata": {},
     "output_type": "display_data"
    }
   ],
   "source": [
    "plt.hist(train[\"Sensor_alpha\"])\n",
    "plt.figure(figsize=(250,10))\n",
    "plt.tight_layout()"
   ]
  },
  {
   "cell_type": "code",
   "execution_count": 8,
   "metadata": {},
   "outputs": [
    {
     "data": {
      "image/png": "[encoded data removed]",
      "text/plain": [
       "<Figure size 432x288 with 1 Axes>"
      ]
     },
     "metadata": {
      "needs_background": "light"
     },
     "output_type": "display_data"
    },
    {
     "data": {
      "text/plain": [
       "<Figure size 18000x720 with 0 Axes>"
      ]
     },
     "metadata": {},
     "output_type": "display_data"
    }
   ],
   "source": [
    "plt.hist(train[\"Sensor_beta\"])\n",
    "plt.figure(figsize=(250,10))\n",
    "plt.tight_layout()"
   ]
  },
  {
   "cell_type": "code",
   "execution_count": 10,
   "metadata": {},
   "outputs": [
    {
     "data": {
      "image/png": "[encoded data removed]",
      "text/plain": [
       "<Figure size 432x288 with 1 Axes>"
      ]
     },
     "metadata": {
      "needs_background": "light"
     },
     "output_type": "display_data"
    },
    {
     "data": {
      "text/plain": [
       "<Figure size 18000x720 with 0 Axes>"
      ]
     },
     "metadata": {},
     "output_type": "display_data"
    }
   ],
   "source": [
    "plt.hist(train[\"Sensor_gamma\"])\n",
    "plt.figure(figsize=(250,10))\n",
    "plt.tight_layout()"
   ]
  },
  {
   "cell_type": "code",
   "execution_count": 11,
   "metadata": {},
   "outputs": [
    {
     "data": {
      "image/png": "[encoded data removed]",
      "text/plain": [
       "<Figure size 432x288 with 1 Axes>"
      ]
     },
     "metadata": {
      "needs_background": "light"
     },
     "output_type": "display_data"
    },
    {
     "data": {
      "text/plain": [
       "<Figure size 18000x720 with 0 Axes>"
      ]
     },
     "metadata": {},
     "output_type": "display_data"
    }
   ],
   "source": [
    "plt.hist(train[\"Sensor_alpha_plus\"])\n",
    "plt.figure(figsize=(250,10))\n",
    "plt.tight_layout()"
   ]
  },
  {
   "cell_type": "code",
   "execution_count": 12,
   "metadata": {},
   "outputs": [
    {
     "data": {
      "image/png": "[encoded data removed]",
      "text/plain": [
       "<Figure size 432x288 with 1 Axes>"
      ]
     },
     "metadata": {
      "needs_background": "light"
     },
     "output_type": "display_data"
    },
    {
     "data": {
      "text/plain": [
       "<Figure size 18000x720 with 0 Axes>"
      ]
     },
     "metadata": {},
     "output_type": "display_data"
    }
   ],
   "source": [
    "plt.hist(train[\"Sensor_beta_plus\"])\n",
    "plt.figure(figsize=(250,10))\n",
    "plt.tight_layout()"
   ]
  },
  {
   "cell_type": "code",
   "execution_count": 13,
   "metadata": {},
   "outputs": [
    {
     "data": {
      "image/png": "[encoded data removed]",
      "text/plain": [
       "<Figure size 432x288 with 1 Axes>"
      ]
     },
     "metadata": {
      "needs_background": "light"
     },
     "output_type": "display_data"
    },
    {
     "data": {
      "text/plain": [
       "<Figure size 18000x720 with 0 Axes>"
      ]
     },
     "metadata": {},
     "output_type": "display_data"
    }
   ],
   "source": [
    "plt.hist(train[\"Sensor_gamma_plus\"])\n",
    "plt.figure(figsize=(250,10))\n",
    "plt.tight_layout()"
   ]
  },
  {
   "cell_type": "code",
   "execution_count": 14,
   "metadata": {},
   "outputs": [
    {
     "data": {
      "image/png": "[encoded data removed]",
      "text/plain": [
       "<Figure size 432x288 with 1 Axes>"
      ]
     },
     "metadata": {
      "needs_background": "light"
     },
     "output_type": "display_data"
    },
    {
     "data": {
      "text/plain": [
       "<Figure size 18000x720 with 0 Axes>"
      ]
     },
     "metadata": {},
     "output_type": "display_data"
    }
   ],
   "source": [
    "plt.hist(train[\"Insect\"])\n",
    "plt.figure(figsize=(250,10))\n",
    "plt.tight_layout()"
   ]
  }
 ],
 "metadata": {
  "interpreter": {
   "hash": "3132f7a729275460905ce50538cd1987892ffc1102ba7dba42e211caddde65d4"
  },
  "kernelspec": {
   "display_name": "Python 3.8.11 ('tfg')",
   "language": "python",
   "name": "python3"
  },
  "language_info": {
   "codemirror_mode": {
    "name": "ipython",
    "version": 3
   },
   "file_extension": ".py",
   "mimetype": "text/x-python",
   "name": "python",
   "nbconvert_exporter": "python",
   "pygments_lexer": "ipython3",
   "version": "3.8.11"
  },
  "orig_nbformat": 4
 },
 "nbformat": 4,
 "nbformat_minor": 2
}
